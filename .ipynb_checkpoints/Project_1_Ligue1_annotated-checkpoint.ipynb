{
 "cells": [
  {
   "cell_type": "markdown",
   "id": "9e370d04",
   "metadata": {},
   "source": [
    "\n",
    "# ⚽ Ligue 1 Club Performance Analysis (2014–2024)\n",
    "\n",
    "This notebook provides an in-depth exploratory analysis of Ligue 1 club performance over nearly a decade.  \n",
    "We focus on club statistics at the **seasonal level**, drawing insights into success factors, performance dynamics, and statistical profiles using Python and machine learning.\n",
    "\n",
    "---\n"
   ]
  },
  {
   "cell_type": "markdown",
   "id": "e83a46dc",
   "metadata": {},
   "source": [
    "## Charging the libraries\n",
    "            "
   ]
  },
  {
   "cell_type": "code",
   "execution_count": null,
   "id": "25120772",
   "metadata": {},
   "outputs": [],
   "source": [
    "import pandas as pd\n",
    "import numpy as np\n",
    "import matplotlib.pyplot as plt\n",
    "import seaborn as sns\n",
    "from sklearn.model_selection import train_test_split\n",
    "from sklearn.linear_model import LogisticRegression\n",
    "from sklearn.metrics import classification_report\n",
    "from sklearn.impute import SimpleImputer\n",
    "from sklearn.ensemble import RandomForestClassifier\n",
    "from sklearn.tree import DecisionTreeClassifier, plot_tree"
   ]
  },
  {
   "cell_type": "markdown",
   "id": "6b20f028",
   "metadata": {},
   "source": [
    "## 1. Data Loading and Initial Overview\n",
    "\n",
    "The dataset is loaded from a CSV file containing team-level seasonal performance data in Ligue 1.\n",
    "Variables include basic match stats (`GF`, `GA`, `Pts`), advanced metrics (`Poss`, `CS%`), and outcomes (`LgRank`).\n",
    "We will normalize some of these values per match to allow fair comparisons between teams and across seasons.\n",
    "            "
   ]
  },
  {
   "cell_type": "code",
   "execution_count": null,
   "id": "cfd21337",
   "metadata": {},
   "outputs": [],
   "source": [
    "df = pd.read_csv(\"ligue-1-stat-15-24.csv\", skiprows=1, sep=\";\")"
   ]
  },
  {
   "cell_type": "code",
   "execution_count": null,
   "id": "90900cfb",
   "metadata": {},
   "outputs": [],
   "source": [
    "df.head()"
   ]
  },
  {
   "cell_type": "code",
   "execution_count": null,
   "id": "40b2ff08",
   "metadata": {
    "scrolled": true
   },
   "outputs": [],
   "source": [
    "print(df.columns)\n",
    "\n",
    "df.columns = df.columns.str.strip().str.lower().str.replace(' ', '_')\n",
    "\n",
    "df.info()\n",
    "df.isna().sum()"
   ]
  },
  {
   "cell_type": "code",
   "execution_count": null,
   "id": "8ce6f6ec",
   "metadata": {},
   "outputs": [],
   "source": [
    "df = df.drop(columns = ['comp', 'w.1', 'min', 'rk'])"
   ]
  },
  {
   "cell_type": "code",
   "execution_count": null,
   "id": "b65acb76",
   "metadata": {},
   "outputs": [],
   "source": [
    "df['gf/mp'] = df['gf']/df['mp']\n",
    "df['ga/mp'] = df['ga']/df['mp']\n",
    "df['gd/mp'] = df['gd']/df['mp']"
   ]
  },
  {
   "cell_type": "code",
   "execution_count": null,
   "id": "c988b312",
   "metadata": {
    "scrolled": false
   },
   "outputs": [],
   "source": [
    "saisons = df[\"season\"].unique()\n",
    "\n",
    "for saison in saisons:\n",
    "    plt.figure(figsize=(12,6))\n",
    "    \n",
    "    data_saison = df[df[\"season\"] == saison]\n",
    "    \n",
    "    ax = sns.barplot(\n",
    "            data=data_saison,\n",
    "            x=\"team\",\n",
    "            y=\"gf\",\n",
    "            order=data_saison.sort_values(\"gf\", ascending=False)[\"team\"]\n",
    "        )\n",
    "    \n",
    "    plt.title(f\"Goals scored by team - Season {saison}\")\n",
    "    plt.xlabel(\"Club\")\n",
    "    plt.ylabel(\"Goals\")\n",
    "    plt.xticks(rotation=45)\n",
    "    \n",
    "    for bar in ax.patches:\n",
    "        height = bar.get_height()\n",
    "        ax.text(\n",
    "            bar.get_x() + bar.get_width() / 2,\n",
    "            height + 1,\n",
    "            f'{int(height)}',\n",
    "            ha='center',\n",
    "            va='bottom',\n",
    "            fontsize=9\n",
    "        )\n",
    "        \n",
    "    plt.tight_layout()\n",
    "    plt.show()"
   ]
  },
  {
   "cell_type": "code",
   "execution_count": null,
   "id": "859bb4f4",
   "metadata": {},
   "outputs": [],
   "source": [
    "saisons = df[\"season\"].unique()\n",
    "\n",
    "for saison in saisons:\n",
    "    plt.figure(figsize=(12,6))\n",
    "    \n",
    "    data_saison = df[df[\"season\"] == saison]\n",
    "    \n",
    "    ax = sns.barplot(\n",
    "            data=data_saison,\n",
    "            x=\"team\",\n",
    "            y=\"gd\",\n",
    "            order=data_saison.sort_values(\"gd\", ascending=False)[\"team\"]\n",
    "        )\n",
    "    \n",
    "    plt.title(f\"Goal difference by team - Season {saison}\")\n",
    "    plt.xlabel(\"Club\")\n",
    "    plt.ylabel(\"Goals\")\n",
    "    plt.xticks(rotation=45)\n",
    "    \n",
    "    for bar in ax.patches:\n",
    "        height = bar.get_height()\n",
    "        ax.text(\n",
    "            bar.get_x() + bar.get_width() / 2,\n",
    "            height + 1,\n",
    "            f'{int(height)}',\n",
    "            ha='center',\n",
    "            va='bottom',\n",
    "            fontsize=9\n",
    "        )\n",
    "        \n",
    "    plt.tight_layout()\n",
    "    plt.show()"
   ]
  },
  {
   "cell_type": "code",
   "execution_count": null,
   "id": "7d4f9364",
   "metadata": {},
   "outputs": [],
   "source": [
    "saisons = df[\"season\"].unique()\n",
    "print(\"Seasons available :\", saisons)\n",
    "\n",
    "clubs_par_saison = {saison: set(df[df[\"season\"] == saison][\"team\"]) for saison in saisons}\n",
    "\n",
    "clubs_toujours_present = set.intersection(*clubs_par_saison.values())\n",
    "\n",
    "print(\"Teams that have never been relegated :\", sorted(clubs_toujours_present))"
   ]
  },
  {
   "cell_type": "code",
   "execution_count": null,
   "id": "7e505585",
   "metadata": {},
   "outputs": [],
   "source": [
    "df[\"presence_toutes_saisons\"] = df[\"team\"].apply(lambda club: 1 if club in clubs_toujours_present else 0)"
   ]
  },
  {
   "cell_type": "markdown",
   "id": "a6bdb2bc",
   "metadata": {},
   "source": [
    "## 3. Long-Term Teams vs. Promoted/Relegated Clubs\n",
    "\n",
    "This section isolates clubs that were present in Ligue 1 every season from 2015 to 2024.\n",
    "We compare their average statistics with those of less stable clubs (promoted/relegated).\n",
    "This reveals structural differences in possession, points, and goal statistics.\n",
    "            "
   ]
  },
  {
   "cell_type": "code",
   "execution_count": null,
   "id": "f9393e63",
   "metadata": {
    "scrolled": false
   },
   "outputs": [],
   "source": [
    "statistiques = [\"pts/mp\", \"gf/mp\", \"ga/mp\", \"gd\", \"poss\", \"cs%\", \"w\", \"d\", \"l\", \"pk\", \"pkatt\"]\n",
    "\n",
    "df_clubs_toujours_present = df[df[\"team\"].isin(clubs_toujours_present)]\n",
    "\n",
    "moyennes_par_equipe = {}\n",
    "\n",
    "for equipe in df_clubs_toujours_present[\"team\"].unique():\n",
    "    data_equipe = df_clubs_toujours_present[df_clubs_toujours_present[\"team\"] == equipe]\n",
    "    \n",
    "    moyennes_equipe = data_equipe.mean(numeric_only=True)\n",
    "    \n",
    "    moyennes_par_equipe[equipe] = moyennes_equipe\n",
    "\n",
    "moyennes_equipe_df = pd.DataFrame(moyennes_par_equipe).T\n",
    "\n",
    "for stat in statistiques:\n",
    "    plt.figure(figsize=(12, 6))\n",
    "    moyennes_equipe_df[stat].sort_values(ascending=False).plot(kind='bar', figsize=(12, 6))\n",
    "    plt.title(f\"Mean of {stat} by team across the stretch\")\n",
    "    plt.ylabel(f\"Mean of {stat}\")\n",
    "    plt.xticks(rotation=90)\n",
    "    plt.tight_layout()\n",
    "    plt.show()"
   ]
  },
  {
   "cell_type": "markdown",
   "id": "3b5c14cb",
   "metadata": {},
   "source": [
    "## 3. Long-Term Teams vs. Promoted/Relegated Clubs\n",
    "\n",
    "This section isolates clubs that were present in Ligue 1 every season from 2015 to 2024.\n",
    "We compare their average statistics with those of less stable clubs (promoted/relegated).\n",
    "This reveals structural differences in possession, points, and goal statistics.\n",
    "            "
   ]
  },
  {
   "cell_type": "code",
   "execution_count": null,
   "id": "305cba3b",
   "metadata": {},
   "outputs": [],
   "source": [
    "statistiques = [\"pts/mp\", \"gf/mp\", \"ga/mp\", \"gd\", \"poss\", \"cs%\", \"w\", \"d\", \"l\", \"pk\", \"pkatt\"]\n",
    "\n",
    "df_clubs_toujours_present = df[~df[\"team\"].isin(clubs_toujours_present)]\n",
    "\n",
    "moyennes_par_equipe = {}\n",
    "\n",
    "for equipe in df_clubs_toujours_present[\"team\"].unique():\n",
    "    data_equipe = df_clubs_toujours_present[df_clubs_toujours_present[\"team\"] == equipe]\n",
    "    \n",
    "    moyennes_equipe = data_equipe.mean(numeric_only=True)\n",
    "    \n",
    "    moyennes_par_equipe[equipe] = moyennes_equipe\n",
    "\n",
    "moyennes_equipe_df = pd.DataFrame(moyennes_par_equipe).T\n",
    "\n",
    "for stat in statistiques:\n",
    "    plt.figure(figsize=(12, 6))\n",
    "    moyennes_equipe_df[stat].sort_values(ascending=False).plot(kind='bar', figsize=(12, 6))\n",
    "    plt.title(f\"Mean of {stat} by team across the stretch\")\n",
    "    plt.ylabel(f\"Mean of {stat}\")\n",
    "    plt.xticks(rotation=90)\n",
    "    plt.tight_layout()\n",
    "    plt.show()"
   ]
  },
  {
   "cell_type": "code",
   "execution_count": null,
   "id": "b6f46a0e",
   "metadata": {},
   "outputs": [],
   "source": [
    "moyennes_saison = []\n",
    "\n",
    "for saison in df[\"season\"].unique():\n",
    "    df_saison = df[df[\"season\"] == saison]\n",
    "    \n",
    "    clubs_toujours = df_saison[df_saison[\"team\"].isin(clubs_toujours_present)]\n",
    "    clubs_ponctuels = df_saison[~df_saison[\"team\"].isin(clubs_toujours_present)]\n",
    "    \n",
    "    moyenne_toujours = clubs_toujours[\"pts/mp\"].mean()\n",
    "    moyenne_ponctuels = clubs_ponctuels[\"pts/mp\"].mean()\n",
    "    \n",
    "    moyennes_saison.append({\n",
    "        \"saison\": saison,\n",
    "        \"clubs_toujours\": moyenne_toujours,\n",
    "        \"clubs_ponctuels\": moyenne_ponctuels\n",
    "    })\n",
    "\n",
    "df_moyennes = pd.DataFrame(moyennes_saison).sort_values(\"saison\")\n",
    "\n",
    "plt.figure(figsize=(10,6))\n",
    "plt.plot(df_moyennes['saison'].values, df_moyennes['clubs_toujours'].values, label=\"Clubs toujours présents\", marker='o')\n",
    "plt.plot(df_moyennes['saison'].values, df_moyennes['clubs_ponctuels'].values, label=\"Clubs ponctuels\", marker='s')\n",
    "plt.title(\"Evolution of points per game by group of teams\")\n",
    "plt.xlabel(\"Season\")\n",
    "plt.ylabel(\"Points per game\")\n",
    "plt.xticks(rotation=45)\n",
    "plt.legend()\n",
    "plt.tight_layout()\n",
    "plt.show()"
   ]
  },
  {
   "cell_type": "markdown",
   "id": "76026378",
   "metadata": {},
   "source": [
    "## 5. Evolution of Ligue 1 Over Time\n",
    "\n",
    "Here we explore the evolution of global performance indicators (e.g., possession, points, goals) season by season.\n",
    "It highlights trends in tactical style or league competitiveness over time.\n",
    "            "
   ]
  },
  {
   "cell_type": "code",
   "execution_count": null,
   "id": "4c0b5caf",
   "metadata": {},
   "outputs": [],
   "source": [
    "stats = [\"pts/mp\", \"gf/mp\", \"poss\"]\n",
    "\n",
    "evolution_generale = df.groupby(\"season\")[stats].mean().reset_index()\n",
    "\n",
    "for stat in stats:\n",
    "    plt.figure(figsize=(10, 5))\n",
    "    plt.plot(evolution_generale[\"season\"].values, evolution_generale[stat].values, marker='o')\n",
    "    plt.title(f\"Mean of {stat} evolution by Ligue 1 season\")\n",
    "    plt.xlabel(\"Season\")\n",
    "    plt.ylabel(f\"Mean of {stat}\")\n",
    "    plt.xticks(rotation=45)\n",
    "    plt.grid(True)\n",
    "    plt.tight_layout()\n",
    "    plt.show()"
   ]
  },
  {
   "cell_type": "markdown",
   "id": "e3d53095",
   "metadata": {},
   "source": [
    "## 4. Visualization: Ranking Teams by Stat\n",
    "\n",
    "We generate bar plots for each numerical statistic, sorted by descending mean value.\n",
    "This allows visual comparison between clubs for metrics like possession or goals per match.\n",
    "            "
   ]
  },
  {
   "cell_type": "code",
   "execution_count": null,
   "id": "3bff09cf",
   "metadata": {},
   "outputs": [],
   "source": [
    "clubs_suivis = [\"Paris S-G\", \"Lyon\", \"Monaco\", \"Marseille\"]\n",
    "\n",
    "stats = [\"pts/mp\", \"gf/mp\", \"poss\"]\n",
    "\n",
    "for stat in stats:\n",
    "    plt.figure(figsize=(10, 5))\n",
    "    \n",
    "    for club in clubs_suivis:\n",
    "        data_club = df[df[\"team\"] == club].sort_values(\"season\")\n",
    "        plt.plot(data_club[\"season\"].values, data_club[stat].values, label=club, marker='o')\n",
    "    \n",
    "    plt.title(f\"Evolution of {stat} by season for the teams selected\")\n",
    "    plt.xlabel(\"Season\")\n",
    "    plt.ylabel(stat)\n",
    "    plt.xticks(rotation=45)\n",
    "    plt.legend()\n",
    "    plt.grid(True)\n",
    "    plt.tight_layout()\n",
    "    plt.show()"
   ]
  },
  {
   "cell_type": "markdown",
   "id": "ce524cab",
   "metadata": {},
   "source": [
    "## 2. Average Performance by Team (All Seasons)\n",
    "\n",
    "We compute the average statistics for each team across all seasons.\n",
    "This helps to identify the most dominant or consistent clubs over time.\n",
    "Metrics like `GF_per_MP`, `CS%`, and `Poss` are useful in comparing offensive and defensive profiles.\n",
    "            "
   ]
  },
  {
   "cell_type": "code",
   "execution_count": null,
   "id": "8de7a908",
   "metadata": {},
   "outputs": [],
   "source": [
    "df[\"LgRank_num\"] = df[\"lgrank\"].str.extract(r'(\\d+)').astype(int)\n",
    "\n",
    "rang_stats = df.groupby(\"team\").agg(\n",
    "    moyenne_rang=(\"LgRank_num\", \"mean\"),\n",
    "    ecart_type_rang=(\"LgRank_num\", \"std\"),\n",
    "    saisons_jouees=(\"season\", \"count\")\n",
    ").reset_index()\n",
    "\n",
    "rang_stats_filtre = rang_stats[rang_stats[\"saisons_jouees\"] >= 5]\n",
    "\n",
    "plt.figure(figsize=(10, 6))\n",
    "plt.scatter(rang_stats_filtre[\"moyenne_rang\"], rang_stats_filtre[\"ecart_type_rang\"])\n",
    "\n",
    "for i, row in rang_stats_filtre.iterrows():\n",
    "    plt.text(row[\"moyenne_rang\"], row[\"ecart_type_rang\"], row[\"team\"], fontsize=8)\n",
    "\n",
    "plt.title(\"Stability of clubs in Ligue 1 (average rank vs. standard deviation)\")\n",
    "plt.xlabel(\"Average rank (lower = better)\")\n",
    "plt.ylabel(\"Standard deviation of rank (lower = more stable)\")\n",
    "plt.grid(True)\n",
    "plt.tight_layout()\n",
    "plt.show()"
   ]
  },
  {
   "cell_type": "markdown",
   "id": "c33c8197",
   "metadata": {},
   "source": [
    "## 2. Average Performance by Team (All Seasons)\n",
    "\n",
    "We compute the average statistics for each team across all seasons.\n",
    "This helps to identify the most dominant or consistent clubs over time.\n",
    "Metrics like `GF_per_MP`, `CS%`, and `Poss` are useful in comparing offensive and defensive profiles.\n",
    "            "
   ]
  },
  {
   "cell_type": "code",
   "execution_count": null,
   "id": "e3d7ef95",
   "metadata": {},
   "outputs": [],
   "source": [
    "stats_classement = df.groupby(\"team\")[[\"poss\", \"cs%\", \"gf/mp\"]].mean().sort_values(\"gf/mp\", ascending=False)\n",
    "\n",
    "for stat in stats_classement.columns:\n",
    "    plt.figure(figsize=(12, 6))\n",
    "    stats_classement[stat].sort_values(ascending=False).plot(kind=\"bar\")\n",
    "    plt.title(f\"Club ranking by mean of {stat}\")\n",
    "    plt.ylabel(stat)\n",
    "    plt.xticks(rotation=90)\n",
    "    plt.tight_layout()\n",
    "    plt.show()"
   ]
  },
  {
   "cell_type": "markdown",
   "id": "d616c4fe",
   "metadata": {},
   "source": [
    "## 2. Average Performance by Team (All Seasons)\n",
    "\n",
    "We compute the average statistics for each team across all seasons.\n",
    "This helps to identify the most dominant or consistent clubs over time.\n",
    "Metrics like `GF_per_MP`, `CS%`, and `Poss` are useful in comparing offensive and defensive profiles.\n",
    "            "
   ]
  },
  {
   "cell_type": "code",
   "execution_count": null,
   "id": "2bdf1a87",
   "metadata": {},
   "outputs": [],
   "source": [
    "stats_radar = [\"gf/mp\", \"ga/mp\", \"poss\", \"cs%\"]\n",
    "\n",
    "df_radar = df.groupby(\"team\")[stats_radar].mean()\n",
    "\n",
    "df_radar[\"ga/mp\"] = df_radar[\"ga/mp\"].max() - df_radar[\"ga/mp\"]\n",
    "\n",
    "df_radar_norm = df_radar.copy()\n",
    "for col in stats_radar:\n",
    "    min_val = df_radar[col].min()\n",
    "    max_val = df_radar[col].max()\n",
    "    df_radar_norm[col] = (df_radar[col] - min_val) / (max_val - min_val)\n",
    "    \n",
    "df_radar_norm[\"ga/mp\"] = 1 - df_radar_norm[\"ga/mp\"]\n",
    "\n",
    "top_clubs = df_radar.sort_values(\"gf/mp\", ascending=False).head(5)\n",
    "\n",
    "def plot_radar(data, club_name):\n",
    "    values = data.loc[club_name].values\n",
    "    labels = data.columns\n",
    "    num_vars = len(labels)\n",
    "    \n",
    "    angles = np.linspace(0, 2 * np.pi, num_vars, endpoint=False).tolist()\n",
    "    values = np.concatenate((values, [values[0]]))\n",
    "    angles += angles[:1]\n",
    "\n",
    "    fig, ax = plt.subplots(figsize=(6, 6), subplot_kw=dict(polar=True))\n",
    "    ax.plot(angles, values, label=club_name)\n",
    "    ax.fill(angles, values, alpha=0.25)\n",
    "    ax.set_title(club_name, size=14)\n",
    "    ax.set_xticks(angles[:-1])\n",
    "    ax.set_xticklabels(labels)\n",
    "    plt.tight_layout()\n",
    "    plt.show()\n",
    "\n",
    "for club in top_clubs.index:\n",
    "    plot_radar(df_radar_norm, club)\n"
   ]
  },
  {
   "cell_type": "code",
   "execution_count": null,
   "id": "751251dc",
   "metadata": {},
   "outputs": [],
   "source": [
    "clubs_comparaison = [\"Paris S-G\", \"Lyon\", \"Monaco\", \"Lille\", \"Rennes\"]\n",
    "\n",
    "labels = stats_radar\n",
    "num_vars = len(labels)\n",
    "angles = np.linspace(0, 2 * np.pi, num_vars, endpoint=False).tolist()\n",
    "angles += angles[:1]\n",
    "\n",
    "fig, ax = plt.subplots(figsize=(8, 8), subplot_kw=dict(polar=True))\n",
    "\n",
    "for club in clubs_comparaison:\n",
    "    values = df_radar_norm.loc[club].tolist()\n",
    "    values += values[:1]  \n",
    "    ax.plot(angles, values, label=club)\n",
    "    ax.fill(angles, values, alpha=0.1)\n",
    "\n",
    "ax.set_xticks(angles[:-1])\n",
    "ax.set_xticklabels(labels)\n",
    "ax.set_title(\"Multi-club comparison - Normalized performance profile\", size=14)\n",
    "ax.legend(loc='upper right', bbox_to_anchor=(1.2, 1.1))\n",
    "plt.tight_layout()\n",
    "plt.show()"
   ]
  },
  {
   "cell_type": "code",
   "execution_count": null,
   "id": "68aaae82",
   "metadata": {},
   "outputs": [],
   "source": [
    "sns.lmplot(x=\"poss\", y=\"pts/mp\", data=df)\n",
    "plt.title(\"Correlation: Possession vs. Points per Game\")\n",
    "plt.tight_layout()\n",
    "plt.show()\n",
    "\n",
    "sns.lmplot(x=\"gf/mp\", y=\"pts/mp\", data=df)\n",
    "plt.title(\"Correlation: Goals scored per game vs. Points\")\n",
    "plt.tight_layout()\n",
    "plt.show()\n",
    "\n",
    "sns.lmplot(x=\"cs%\", y=\"LgRank_num\", data=df)\n",
    "plt.title(\"Correlation: Clean Sheets vs. Ranking (inverse)\")\n",
    "plt.tight_layout()\n",
    "plt.show()\n"
   ]
  },
  {
   "cell_type": "markdown",
   "id": "6cdb0982",
   "metadata": {},
   "source": [
    "## 6. Line Plots: Evolution by Metric\n",
    "\n",
    "We plot the evolution of key indicators over time: `Pts_per_MP`, `GF_per_MP`, and `Poss`.\n",
    "These graphs show whether the league is becoming more offensive, balanced, or controlled.\n",
    "            "
   ]
  },
  {
   "cell_type": "code",
   "execution_count": null,
   "id": "afd206d9",
   "metadata": {},
   "outputs": [],
   "source": [
    "df[\"Top3\"] = df[\"LgRank_num\"] <= 3\n",
    "\n",
    "stats_compare = [\"gf/mp\", \"ga/mp\", \"poss\", \"cs%\", \"pts/mp\"]\n",
    "\n",
    "moyennes = df.groupby(\"Top3\")[stats_compare].mean().T\n",
    "\n",
    "\n",
    "for stat in stats_compare:\n",
    "    plt.figure(figsize=(6, 4))\n",
    "    df.groupby(\"Top3\")[stat].mean().plot(kind=\"bar\")\n",
    "    plt.title(f\"{stat} - Average Top 3 vs Others\")\n",
    "    plt.ylabel(stat)\n",
    "    plt.xticks(rotation=0)\n",
    "    plt.tight_layout()\n",
    "    plt.show()\n"
   ]
  },
  {
   "cell_type": "markdown",
   "id": "34f4305d",
   "metadata": {},
   "source": [
    "## 12. Logistic Regression to Predict Top 3 Teams\n",
    "\n",
    "We use a logistic regression model to estimate the probability of a team finishing in the Top 3.\n",
    "Features include offensive and defensive stats. This helps identify the most influential factors in elite performance.\n",
    "            "
   ]
  },
  {
   "cell_type": "code",
   "execution_count": null,
   "id": "4a9efb17",
   "metadata": {},
   "outputs": [],
   "source": [
    "df['pk%'] = df['pk']/df['pkatt']\n",
    "\n",
    "features = [\"gf/mp\", \"ga/mp\", \"poss\", \"cs%\", \"pk%\"]\n",
    "X = df[features]\n",
    "y = df[\"Top3\"]\n",
    "\n",
    "imputer = SimpleImputer(strategy=\"mean\")\n",
    "X_imputed = imputer.fit_transform(X)\n",
    "\n",
    "X = pd.DataFrame(X_imputed, columns=features)\n",
    "\n",
    "X_train, X_test, y_train, y_test = train_test_split(X, y, test_size=0.2, random_state=42)\n",
    "\n",
    "model = LogisticRegression()\n",
    "model.fit(X_train, y_train)\n",
    "\n",
    "y_pred = model.predict(X_test)\n",
    "\n",
    "print(\"🔎 Evaluation on the train dataset :\")\n",
    "print(classification_report(y_test, y_pred))\n",
    "\n",
    "coefficients = pd.DataFrame({\n",
    "    \"Variable\": features,\n",
    "    \"Coefficient\": model.coef_[0]\n",
    "}).sort_values(\"Coefficient\", ascending=False)\n",
    "\n",
    "print(\"\\n📊 Influence of variables on the probability of being in the Top 3:\")\n",
    "print(coefficients)\n"
   ]
  },
  {
   "cell_type": "markdown",
   "id": "5b4a3c32",
   "metadata": {},
   "source": [
    "## 13. Decision Tree Classification\n",
    "\n",
    "An interpretable decision tree is trained to classify teams as Top 3 or not based on their seasonal stats.\n",
    "This method reveals key thresholds (e.g., GF_per_MP > 2.0) that define elite teams.\n",
    "            "
   ]
  },
  {
   "cell_type": "code",
   "execution_count": null,
   "id": "2c90574e",
   "metadata": {},
   "outputs": [],
   "source": [
    "X_train, X_test, y_train, y_test = train_test_split(X, y, test_size=0.2, random_state=42)\n",
    "\n",
    "tree_model = DecisionTreeClassifier(max_depth=3, random_state=42)\n",
    "tree_model.fit(X_train, y_train)\n",
    "\n",
    "y_pred_tree = tree_model.predict(X_test)\n",
    "\n",
    "print(\"🔍 Evaluation of the tree :\")\n",
    "print(classification_report(y_test, y_pred_tree))\n",
    "\n",
    "plt.figure(figsize=(15, 8))\n",
    "plot_tree(tree_model, feature_names=features, class_names=[\"Non Top 3\", \"Top 3\"], filled=True)\n",
    "plt.title(\"Decision Tree - Predicting a Top 3 Place\")\n",
    "plt.show()"
   ]
  },
  {
   "cell_type": "markdown",
   "id": "cd28e830",
   "metadata": {},
   "source": [
    "## 14. Random Forest: Variable Importance\n",
    "\n",
    "A Random Forest model is trained to identify the most predictive variables.\n",
    "This ensemble method mitigates overfitting and provides robust importance scores.\n",
    "            "
   ]
  },
  {
   "cell_type": "code",
   "execution_count": null,
   "id": "a7f8a61f",
   "metadata": {},
   "outputs": [],
   "source": [
    "X_train, X_test, y_train, y_test = train_test_split(X, y, test_size=0.2, random_state=42)\n",
    "\n",
    "rf_model = RandomForestClassifier(n_estimators=100, max_depth=4, random_state=42)\n",
    "rf_model.fit(X_train, y_train)\n",
    "\n",
    "y_pred_rf = rf_model.predict(X_test)\n",
    "print(\"🔍 Evaluation Random Forest :\")\n",
    "print(classification_report(y_test, y_pred_rf))\n",
    "\n",
    "importances = rf_model.feature_importances_\n",
    "features_importance = pd.DataFrame({\n",
    "    \"Variable\": X.columns,\n",
    "    \"Importance\": importances\n",
    "}).sort_values(\"Importance\", ascending=False)\n",
    "\n",
    "plt.figure(figsize=(10, 5))\n",
    "plt.barh(features_importance[\"Variable\"], features_importance[\"Importance\"])\n",
    "plt.title(\"📊 Variable importance (Random Forest)\")\n",
    "plt.xlabel(\"Importance\")\n",
    "plt.gca().invert_yaxis()\n",
    "plt.tight_layout()\n",
    "plt.show()\n",
    "\n",
    "print(\"\\n📋 Most important variables according to Random Forest:\")\n",
    "print(features_importance)\n"
   ]
  },
  {
   "cell_type": "code",
   "execution_count": null,
   "id": "554dcfae",
   "metadata": {
    "scrolled": true
   },
   "outputs": [],
   "source": [
    "df[\"proba_Top3\"] = rf_model.predict_proba(X)[:, 1] \n",
    "\n",
    "df_top_preds = df[[\"season\", \"team\", \"proba_Top3\", \"Top3\", \"LgRank_num\", \"pts/mp\"]]\n",
    "df_top_preds_sorted = df_top_preds.sort_values(\"proba_Top3\", ascending=False)\n",
    "\n",
    "print(\"🔝 Ranking of teams according to the probability of being Top 3 (RF model):\")\n",
    "print(df_top_preds_sorted.head(20))"
   ]
  },
  {
   "cell_type": "code",
   "execution_count": null,
   "id": "a2e2a1fe",
   "metadata": {
    "scrolled": true
   },
   "outputs": [],
   "source": [
    "df_sans_psg = df_top_preds[df_top_preds[\"team\"] != \"Paris S-G\"]\n",
    "\n",
    "classement_sans_psg = df_sans_psg.sort_values(\"proba_Top3\", ascending=False)\n",
    "\n",
    "print(\"🔝 Ranking of teams according to the probability of being Top 3 (excluding PSG):\")\n",
    "print(classement_sans_psg.head(10))"
   ]
  },
  {
   "cell_type": "markdown",
   "id": "6741cb5b",
   "metadata": {},
   "source": [
    "## 16. Surprise Index: Over- and Underperformers\n",
    "\n",
    "We compute the difference between actual Top 3 presence and model probability.\n",
    "This reveals teams that outperformed expectations (e.g., Monaco 16-17, Lille 20-21) or disappointed.\n",
    "            "
   ]
  },
  {
   "cell_type": "code",
   "execution_count": null,
   "id": "ce431e08",
   "metadata": {
    "scrolled": true
   },
   "outputs": [],
   "source": [
    "df[\"Top3_gap\"] = df[\"Top3\"].astype(int) - df[\"proba_Top3\"]\n",
    "\n",
    "overperformers = df[df[\"Top3\"] == True].sort_values(\"Top3_gap\", ascending=False)\n",
    "\n",
    "underperformers = df[df[\"Top3\"] == False].sort_values(\"Top3_gap\", ascending=True)\n",
    "\n",
    "cols_display = [\"season\", \"team\", \"Top3\", \"LgRank_num\", \"proba_Top3\", \"Top3_gap\", \"pts/mp\"]\n",
    "\n",
    "print(\"Teams that surprised the most (overperformers):\")\n",
    "print(overperformers[cols_display].head(5))\n",
    "\n",
    "print(\"Teams that disappointed the most according to the model (underperformers):\")\n",
    "print(underperformers[cols_display].head(5))\n"
   ]
  },
  {
   "cell_type": "markdown",
   "id": "18329a4e",
   "metadata": {},
   "source": [
    "## 17. Offensive and Defensive Efficiency Scores\n",
    "\n",
    "Custom metrics are created to synthesize offensive and defensive output:\n",
    "- Offensive = (GF - PK) / Possession\n",
    "- Defensive = CS% / GA_per_MP\n",
    "These are then normalized and combined for a total effectiveness score.\n",
    "            "
   ]
  },
  {
   "cell_type": "code",
   "execution_count": null,
   "id": "ff3ca481",
   "metadata": {},
   "outputs": [],
   "source": [
    "df_eff = df.copy()\n",
    "\n",
    "df_eff[\"effic_off\"] = (df_eff[\"gf\"] - df_eff[\"pk\"]) / df_eff[\"poss\"]\n",
    "\n",
    "df_eff[\"effic_def\"] = df_eff[\"cs\"] / df_eff[\"ga\"]\n"
   ]
  },
  {
   "cell_type": "code",
   "execution_count": null,
   "id": "746f3119",
   "metadata": {},
   "outputs": [],
   "source": [
    "for col in [\"effic_off\", \"effic_def\"]:\n",
    "    min_val = df_eff[col].min()\n",
    "    max_val = df_eff[col].max()\n",
    "    df_eff[col + \"_norm\"] = (df_eff[col] - min_val) / (max_val - min_val)\n"
   ]
  },
  {
   "cell_type": "code",
   "execution_count": null,
   "id": "a5597452",
   "metadata": {},
   "outputs": [],
   "source": [
    "df_eff[\"score_total\"] = df_eff[\"effic_off_norm\"] + df_eff[\"effic_def_norm\"]\n",
    "\n",
    "classement_eff = df_eff.sort_values(\"score_total\", ascending=False)\n",
    "\n",
    "cols_to_show = [\"season\", \"team\", \"LgRank_num\", \"pts/mp\", \n",
    "                \"effic_off\", \"effic_def\", \n",
    "                \"effic_off_norm\", \"effic_def_norm\", \"score_total\"]\n",
    "\n",
    "print(\"Cross-ranking attack + defense:\")\n",
    "print(classement_eff[cols_to_show].head(10))\n"
   ]
  },
  {
   "cell_type": "markdown",
   "id": "ebc4de50",
   "metadata": {},
   "source": [
    "## 2. Average Performance by Team (All Seasons)\n",
    "\n",
    "We compute the average statistics for each team across all seasons.\n",
    "This helps to identify the most dominant or consistent clubs over time.\n",
    "Metrics like `GF_per_MP`, `CS%`, and `Poss` are useful in comparing offensive and defensive profiles.\n",
    "            "
   ]
  },
  {
   "cell_type": "code",
   "execution_count": null,
   "id": "83cc69a4",
   "metadata": {},
   "outputs": [],
   "source": [
    "df_eff = df.groupby(\"team\")[[\"gf/mp\", \"ga/mp\", \"cs%\"]].mean().reset_index()\n",
    "\n",
    "df_eff[\"cs%\"] = pd.to_numeric(df_eff[\"cs%\"], errors=\"coerce\")\n",
    "\n",
    "df_eff[\"Off_Eff\"] = df_eff[\"gf/mp\"]\n",
    "\n",
    "cs_min, cs_max = df_eff[\"cs%\"].min(), df_eff[\"cs%\"].max()\n",
    "ga_min, ga_max = df_eff[\"ga/mp\"].min(), df_eff[\"ga/mp\"].max()\n",
    "\n",
    "df_eff[\"CS_norm\"] = (df_eff[\"cs%\"] - cs_min) / (cs_max - cs_min)\n",
    "df_eff[\"GA_norm\"] = (df_eff[\"ga/mp\"] - ga_min) / (ga_max - ga_min)\n",
    "\n",
    "df_eff[\"GA_eff\"] = 1 - df_eff[\"GA_norm\"]\n",
    "\n",
    "df_eff[\"Def_Eff\"] = (df_eff[\"CS_norm\"] + df_eff[\"GA_eff\"]) / 2\n",
    "\n",
    "print(\"Indicators by team:\")\n",
    "print(df_eff[[\"team\", \"Off_Eff\", \"Def_Eff\"]].sort_values(\"Off_Eff\", ascending=False))\n"
   ]
  },
  {
   "cell_type": "code",
   "execution_count": null,
   "id": "7ff5dc38",
   "metadata": {},
   "outputs": [],
   "source": [
    "plt.figure(figsize=(10, 8))\n",
    "plt.scatter(df_eff[\"Off_Eff\"], df_eff[\"Def_Eff\"], s=80, alpha=0.7)\n",
    "\n",
    "for i, row in df_eff.iterrows():\n",
    "    plt.text(row[\"Off_Eff\"] + 0.01, row[\"Def_Eff\"] + 0.01, row[\"team\"], fontsize=9)\n",
    "\n",
    "plt.xlabel(\"Offensive Efficiency (GF per MP)\")\n",
    "plt.ylabel(\"Defensive effectiveness (composite)\")\n",
    "plt.title(\"Cross-team ranking: Offensive vs. Defensive efficiency\")\n",
    "plt.grid(True)\n",
    "plt.tight_layout()\n",
    "plt.show()"
   ]
  },
  {
   "cell_type": "markdown",
   "id": "de812197",
   "metadata": {},
   "source": [
    "## 2. Average Performance by Team (All Seasons)\n",
    "\n",
    "We compute the average statistics for each team across all seasons.\n",
    "This helps to identify the most dominant or consistent clubs over time.\n",
    "Metrics like `GF_per_MP`, `CS%`, and `Poss` are useful in comparing offensive and defensive profiles.\n",
    "            "
   ]
  },
  {
   "cell_type": "code",
   "execution_count": null,
   "id": "fb141870",
   "metadata": {},
   "outputs": [],
   "source": [
    "penalty_stats = df.groupby(\"team\")[[\"pk\", \"pkatt\", \"gf\"]].mean().reset_index()\n",
    "\n",
    "penalty_stats[\"PK_success_rate\"] = penalty_stats[\"pk\"] / penalty_stats[\"pkatt\"]\n",
    "penalty_stats[\"PK_dependency\"] = penalty_stats[\"pk\"] / penalty_stats[\"gf\"]\n",
    "\n",
    "penalty_stats = penalty_stats.dropna()\n",
    "penalty_stats = penalty_stats[penalty_stats[\"pkatt\"] > 0]\n"
   ]
  },
  {
   "cell_type": "markdown",
   "id": "67d7bc9e",
   "metadata": {},
   "source": [
    "## 18. Penalty Analysis\n",
    "\n",
    "We examine penalty frequency, conversion rate, and dependency (`PK / GF`) to identify teams relying heavily on set-piece goals.\n",
    "            "
   ]
  },
  {
   "cell_type": "code",
   "execution_count": null,
   "id": "2bc8d1f8",
   "metadata": {},
   "outputs": [],
   "source": [
    "top_dependency = penalty_stats.sort_values(\"PK_dependency\", ascending=False)\n",
    "\n",
    "print(\"Teams most dependent on penalties (PK / GF):\")\n",
    "print(top_dependency[[\"team\", \"pk\", \"pkatt\", \"PK_success_rate\", \"PK_dependency\"]].head(10))\n"
   ]
  },
  {
   "cell_type": "markdown",
   "id": "02bff432",
   "metadata": {},
   "source": [
    "## 18. Penalty Analysis\n",
    "\n",
    "We examine penalty frequency, conversion rate, and dependency (`PK / GF`) to identify teams relying heavily on set-piece goals.\n",
    "            "
   ]
  },
  {
   "cell_type": "code",
   "execution_count": null,
   "id": "4c6a10b4",
   "metadata": {},
   "outputs": [],
   "source": [
    "top10 = top_dependency.head(10)\n",
    "\n",
    "plt.figure(figsize=(10, 6))\n",
    "plt.barh(top10[\"team\"], top10[\"PK_dependency\"] * 100)\n",
    "plt.xlabel(\"Percentage of goals scored from penalties (%)\")\n",
    "plt.title(\"Top 10 teams most dependent on penalties\")\n",
    "plt.gca().invert_yaxis()\n",
    "plt.tight_layout()\n",
    "plt.show()"
   ]
  }
 ],
 "metadata": {
  "kernelspec": {
   "display_name": "Python 3 (ipykernel)",
   "language": "python",
   "name": "python3"
  },
  "language_info": {
   "codemirror_mode": {
    "name": "ipython",
    "version": 3
   },
   "file_extension": ".py",
   "mimetype": "text/x-python",
   "name": "python",
   "nbconvert_exporter": "python",
   "pygments_lexer": "ipython3",
   "version": "3.9.7"
  }
 },
 "nbformat": 4,
 "nbformat_minor": 5
}
